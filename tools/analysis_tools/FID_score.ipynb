{
 "cells": [
  {
   "cell_type": "code",
   "execution_count": null,
   "metadata": {},
   "outputs": [],
   "source": [
    "import torch\n",
    "import torchvision\n",
    "import torchvision.transforms as transforms\n",
    "from pytorch_fid import fid_score\n",
    "import os\n",
    "from PIL import Image\n",
    "from torchvision import transforms\n",
    "\n"
   ]
  },
  {
   "cell_type": "code",
   "execution_count": 4,
   "metadata": {},
   "outputs": [
    {
     "name": "stdout",
     "output_type": "stream",
     "text": [
      "成功处理并保存了1000张图像到/opt/data/private/fcf/mmdetection/data/URHI/URHI_FID_images\n"
     ]
    }
   ],
   "source": [
    "import random\n",
    "\n",
    "def preprocess_images(input_folder, output_folder, num_images, image_size=(800, 800)):\n",
    "    # 检查输出文件夹是否存在，如果不存在则创建\n",
    "    if not os.path.exists(output_folder):\n",
    "        os.makedirs(output_folder)\n",
    "\n",
    "    # 获取输入文件夹中所有图像文件\n",
    "    image_files = [f for f in os.listdir(input_folder) if os.path.isfile(os.path.join(input_folder, f))]\n",
    "    \n",
    "    # 确保读取的图像数量不超过文件夹中现有的图像数量\n",
    "    num_images = min(num_images, len(image_files))\n",
    "\n",
    "    # 随机选择图像文件\n",
    "    selected_files = random.sample(image_files, num_images)\n",
    "\n",
    "    # 图像变换\n",
    "    transform = transforms.Compose([\n",
    "        transforms.Resize(image_size),       # 调整图像大小\n",
    "        transforms.ToTensor()              # 转换为张量\n",
    "\n",
    "    ])\n",
    "\n",
    "    for i, image_file in enumerate(selected_files):\n",
    "        image_path = os.path.join(input_folder, image_file)\n",
    "        image = Image.open(image_path).convert('RGB')  # 保证图像为RGB格式\n",
    "\n",
    "        # 进行变换\n",
    "        image = transform(image)\n",
    "\n",
    "        # 将张量重新转换为PIL图像\n",
    "        image = transforms.ToPILImage()(image)\n",
    "\n",
    "        # 保存到输出文件夹\n",
    "        output_path = os.path.join(output_folder, f\"{i}.jpg\")\n",
    "        image.save(output_path)\n",
    "\n",
    "    print(f\"成功处理并保存了{num_images}张图像到{output_folder}\")\n",
    "\n",
    "# 示例用法\n",
    "input_folder = \"/opt/data/private/fcf/mmdetection/data/HazyDet-365k/train/hazy_images\"  # 输入文件夹路径\n",
    "output_folder = \"/opt/data/private/fcf/mmdetection/data/HazyDet-365k/train/hazy_images_FID_images\"  # 输出文件夹路径\n",
    "num_images = 1000  # 需要处理的图像数量\n",
    "\n",
    "preprocess_images(input_folder, output_folder, num_images)"
   ]
  },
  {
   "cell_type": "code",
   "execution_count": null,
   "metadata": {},
   "outputs": [],
   "source": [
    "# 准备真实数据分布和生成模型的图像数据\n",
    "real_images_folder = '/opt/data/private/fcf/mmdetection/data/HazyDet-365k/Real_Haze/train/FID_images'\n",
    "generated_images_folder = '/opt/data/private/fcf/mmdetection/data/HazyDet-365k/val/FID_images'\n",
    "\n"
   ]
  },
  {
   "cell_type": "code",
   "execution_count": null,
   "metadata": {},
   "outputs": [],
   "source": []
  },
  {
   "cell_type": "code",
   "execution_count": null,
   "metadata": {},
   "outputs": [],
   "source": [
    "fidelity --gpu 0 --fid --kid --isc --samples-find-deep --input1 /opt/data/private/fcf/mmdetection/data/RTTS_FID_images --input2 /opt/data/private/fcf/mmdetection/data/HazyDet-365k/train/hazy_images_FID_images  --kid-subset-size 1000"
   ]
  },
  {
   "cell_type": "code",
   "execution_count": null,
   "metadata": {},
   "outputs": [],
   "source": []
  }
 ],
 "metadata": {
  "kernelspec": {
   "display_name": "hazydet",
   "language": "python",
   "name": "python3"
  },
  "language_info": {
   "codemirror_mode": {
    "name": "ipython",
    "version": 3
   },
   "file_extension": ".py",
   "mimetype": "text/x-python",
   "name": "python",
   "nbconvert_exporter": "python",
   "pygments_lexer": "ipython3",
   "version": "3.9.19"
  }
 },
 "nbformat": 4,
 "nbformat_minor": 2
}
