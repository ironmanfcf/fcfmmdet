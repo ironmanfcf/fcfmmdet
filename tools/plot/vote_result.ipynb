{
 "cells": [
  {
   "cell_type": "code",
   "execution_count": null,
   "metadata": {},
   "outputs": [],
   "source": [
    "import pandas as pd  \n",
    "from plotnine import ggplot, aes, geom_bar, labs, theme_minimal, theme, element_text, scale_fill_manual,element_blank,element_line\n"
   ]
  },
  {
   "cell_type": "code",
   "execution_count": null,
   "metadata": {},
   "outputs": [],
   "source": [
    "percentages = [  \n",
    "    29.10, 57.80, 13.10,  \n",
    "    60.80, 15.30, 23.90,  \n",
    "    9.30, 75.70, 14.90,  \n",
    "    39.60, 39.90, 20.50,  \n",
    "    34.70, 44.00, 21.30,  \n",
    "    34.00, 43.70, 22.40,  \n",
    "    30.20, 58.60, 11.20,  \n",
    "    49.60, 34.00, 16.40,  \n",
    "    36.90, 48.10, 14.90,  \n",
    "    36.60, 49.60, 13.80,  \n",
    "    41.40, 35.80, 22.80,  \n",
    "    45.90, 34.70, 19.40,  \n",
    "    31.70, 59.00, 9.30,  \n",
    "    23.10, 66.80, 10.10,  \n",
    "    22.80, 66.40, 10.80,  \n",
    "    16.80, 69.80, 13.40,  \n",
    "    38.40, 47.40, 14.20,  \n",
    "    41.80, 50.00, 8.20  \n",
    "] "
   ]
  },
  {
   "cell_type": "code",
   "execution_count": null,
   "metadata": {},
   "outputs": [],
   "source": [
    "percentages = [57.8, 29.1, 13.1, 15.3, 60.8, 23.9, 75.7, 9.3, 14.9, 39.9, 39.6, 20.5, 44.0, 34.7, 21.3, 43.7, 34.0, 22.4, 58.6, 30.2, 11.2, 34.0, 49.6, 16.4, 48.1, 36.9, 14.9, 49.6, 36.6, 13.8, 35.8, 41.4, 22.8, 34.7, 45.9, 19.4, 59.0, 31.7, 9.3, 66.8, 23.1, 10.1, 66.4, 22.8, 10.8, 69.8, 16.8, 13.4, 47.4, 38.4, 14.2, 50.0, 41.8, 8.2]"
   ]
  },
  {
   "cell_type": "code",
   "execution_count": null,
   "metadata": {},
   "outputs": [],
   "source": [
    "percentages = [13.1, 57.8, 29.1, 23.9, 15.3, 60.8, 14.9, 75.7, 9.3, 20.5, 39.9, 39.6, 21.3, 44.0, 34.7, 22.4, 43.7, 34.0, 11.2, 58.6, 30.2, 16.4, 34.0, 49.6, 14.9, 48.1, 36.9, 13.8, 49.6, 36.6, 22.8, 35.8, 41.4, 19.4, 34.7, 45.9, 9.3, 59.0, 31.7, 10.1, 66.8, 23.1, 10.8, 66.4, 22.8, 13.4, 69.8, 16.8, 14.2, 47.4, 38.4, 8.2, 50.0, 41.8]"
   ]
  },
  {
   "cell_type": "code",
   "execution_count": null,
   "metadata": {},
   "outputs": [],
   "source": [
    "# 将一维列表转换为二维列表（每行三个元素）  \n",
    "n_rows = len(percentages) // 3  \n",
    "reshaped_data = [percentages[i:i+3] for i in range(0, len(percentages), 3)]  \n",
    "  \n",
    "# 交换第二列和第三列  \n",
    "for row in reshaped_data:  \n",
    "    row[0], row[2] = row[2], row[0]  \n",
    "  \n",
    "# 打印结果以验证  \n",
    "for row in reshaped_data:  \n",
    "    print(row)\n",
    "    \n",
    "# 使用列表推导式将二维列表转换回一维列表  \n",
    "flattened_list = [item for sublist in reshaped_data for item in sublist]  \n",
    "  \n",
    "# 打印结果以验证  \n",
    "print(flattened_list)    "
   ]
  },
  {
   "cell_type": "code",
   "execution_count": 36,
   "metadata": {},
   "outputs": [
    {
     "name": "stderr",
     "output_type": "stream",
     "text": [
      "/tmp/ipykernel_666108/4160494882.py:49: FutureWarning: Using print(plot) to draw and show the plot figure is deprecated and will be removed in a future version. Use plot.show().\n"
     ]
    },
    {
     "ename": "KeyError",
     "evalue": "'topright'",
     "output_type": "error",
     "traceback": [
      "\u001b[0;31m---------------------------------------------------------------------------\u001b[0m",
      "\u001b[0;31mKeyError\u001b[0m                                  Traceback (most recent call last)",
      "Cell \u001b[0;32mIn[36], line 49\u001b[0m\n\u001b[1;32m     24\u001b[0m p \u001b[38;5;241m=\u001b[39m (  \n\u001b[1;32m     25\u001b[0m     ggplot(df, aes(x\u001b[38;5;241m=\u001b[39m\u001b[38;5;124m'\u001b[39m\u001b[38;5;124mQuestion\u001b[39m\u001b[38;5;124m'\u001b[39m, y\u001b[38;5;241m=\u001b[39m\u001b[38;5;124m'\u001b[39m\u001b[38;5;124mPercentage\u001b[39m\u001b[38;5;124m'\u001b[39m, fill\u001b[38;5;241m=\u001b[39m\u001b[38;5;124m'\u001b[39m\u001b[38;5;124mModel\u001b[39m\u001b[38;5;124m'\u001b[39m)) \u001b[38;5;241m+\u001b[39m  \n\u001b[1;32m     26\u001b[0m     geom_bar(stat\u001b[38;5;241m=\u001b[39m\u001b[38;5;124m'\u001b[39m\u001b[38;5;124midentity\u001b[39m\u001b[38;5;124m'\u001b[39m) \u001b[38;5;241m+\u001b[39m  \n\u001b[0;32m   (...)\u001b[0m\n\u001b[1;32m     45\u001b[0m     )  \n\u001b[1;32m     46\u001b[0m )  \n\u001b[1;32m     48\u001b[0m \u001b[38;5;66;03m# 输出图像  \u001b[39;00m\n\u001b[0;32m---> 49\u001b[0m \u001b[38;5;28;43mprint\u001b[39;49m\u001b[43m(\u001b[49m\u001b[43mp\u001b[49m\u001b[43m)\u001b[49m\n",
      "File \u001b[0;32m~/miniconda3/envs/hazydet/lib/python3.9/site-packages/plotnine/ggplot.py:113\u001b[0m, in \u001b[0;36mggplot.__str__\u001b[0;34m(self)\u001b[0m\n\u001b[1;32m    107\u001b[0m msg \u001b[38;5;241m=\u001b[39m (\n\u001b[1;32m    108\u001b[0m     \u001b[38;5;124m\"\u001b[39m\u001b[38;5;124mUsing print(plot) to draw and show the plot figure is \u001b[39m\u001b[38;5;124m\"\u001b[39m\n\u001b[1;32m    109\u001b[0m     \u001b[38;5;124m\"\u001b[39m\u001b[38;5;124mdeprecated and will be removed in a future version. \u001b[39m\u001b[38;5;124m\"\u001b[39m\n\u001b[1;32m    110\u001b[0m     \u001b[38;5;124m\"\u001b[39m\u001b[38;5;124mUse plot.show().\u001b[39m\u001b[38;5;124m\"\u001b[39m\n\u001b[1;32m    111\u001b[0m )\n\u001b[1;32m    112\u001b[0m warn(msg, category\u001b[38;5;241m=\u001b[39m\u001b[38;5;167;01mFutureWarning\u001b[39;00m, stacklevel\u001b[38;5;241m=\u001b[39m\u001b[38;5;241m2\u001b[39m)\n\u001b[0;32m--> 113\u001b[0m \u001b[38;5;28;43mself\u001b[39;49m\u001b[38;5;241;43m.\u001b[39;49m\u001b[43mshow\u001b[49m\u001b[43m(\u001b[49m\u001b[43m)\u001b[49m\n\u001b[1;32m    114\u001b[0m \u001b[38;5;66;03m# Return and empty string so that print(p) is as clean as possible\u001b[39;00m\n\u001b[1;32m    115\u001b[0m \u001b[38;5;28;01mreturn\u001b[39;00m \u001b[38;5;124m\"\u001b[39m\u001b[38;5;124m\"\u001b[39m\n",
      "File \u001b[0;32m~/miniconda3/envs/hazydet/lib/python3.9/site-packages/plotnine/ggplot.py:150\u001b[0m, in \u001b[0;36mggplot.show\u001b[0;34m(self)\u001b[0m\n\u001b[1;32m    143\u001b[0m \u001b[38;5;28;01mdef\u001b[39;00m \u001b[38;5;21mshow\u001b[39m(\u001b[38;5;28mself\u001b[39m):\n\u001b[1;32m    144\u001b[0m \u001b[38;5;250m    \u001b[39m\u001b[38;5;124;03m\"\"\"\u001b[39;00m\n\u001b[1;32m    145\u001b[0m \u001b[38;5;124;03m    Show plot using the matplotlib backend set by the user\u001b[39;00m\n\u001b[1;32m    146\u001b[0m \n\u001b[1;32m    147\u001b[0m \u001b[38;5;124;03m    Users should prefer this method instead of printing or repring\u001b[39;00m\n\u001b[1;32m    148\u001b[0m \u001b[38;5;124;03m    the object.\u001b[39;00m\n\u001b[1;32m    149\u001b[0m \u001b[38;5;124;03m    \"\"\"\u001b[39;00m\n\u001b[0;32m--> 150\u001b[0m     \u001b[38;5;28;43mself\u001b[39;49m\u001b[38;5;241;43m.\u001b[39;49m\u001b[43m_display\u001b[49m\u001b[43m(\u001b[49m\u001b[43m)\u001b[49m \u001b[38;5;28;01mif\u001b[39;00m is_inline_backend() \u001b[38;5;28;01melse\u001b[39;00m \u001b[38;5;28mself\u001b[39m\u001b[38;5;241m.\u001b[39mdraw(show\u001b[38;5;241m=\u001b[39m\u001b[38;5;28;01mTrue\u001b[39;00m)\n",
      "File \u001b[0;32m~/miniconda3/envs/hazydet/lib/python3.9/site-packages/plotnine/ggplot.py:175\u001b[0m, in \u001b[0;36mggplot._display\u001b[0;34m(self)\u001b[0m\n\u001b[1;32m    172\u001b[0m     save_format \u001b[38;5;241m=\u001b[39m \u001b[38;5;124m\"\u001b[39m\u001b[38;5;124mpng\u001b[39m\u001b[38;5;124m\"\u001b[39m\n\u001b[1;32m    174\u001b[0m buf \u001b[38;5;241m=\u001b[39m BytesIO()\n\u001b[0;32m--> 175\u001b[0m \u001b[38;5;28;43mself\u001b[39;49m\u001b[38;5;241;43m.\u001b[39;49m\u001b[43msave\u001b[49m\u001b[43m(\u001b[49m\u001b[43mbuf\u001b[49m\u001b[43m,\u001b[49m\u001b[43m \u001b[49m\u001b[38;5;28;43mformat\u001b[39;49m\u001b[38;5;241;43m=\u001b[39;49m\u001b[43msave_format\u001b[49m\u001b[43m,\u001b[49m\u001b[43m \u001b[49m\u001b[43mverbose\u001b[49m\u001b[38;5;241;43m=\u001b[39;49m\u001b[38;5;28;43;01mFalse\u001b[39;49;00m\u001b[43m)\u001b[49m\n\u001b[1;32m    176\u001b[0m display_func \u001b[38;5;241m=\u001b[39m get_display_function(\u001b[38;5;28mformat\u001b[39m)\n\u001b[1;32m    177\u001b[0m display_func(buf\u001b[38;5;241m.\u001b[39mgetvalue())\n",
      "File \u001b[0;32m~/miniconda3/envs/hazydet/lib/python3.9/site-packages/plotnine/ggplot.py:663\u001b[0m, in \u001b[0;36mggplot.save\u001b[0;34m(self, filename, format, path, width, height, units, dpi, limitsize, verbose, **kwargs)\u001b[0m\n\u001b[1;32m    615\u001b[0m \u001b[38;5;28;01mdef\u001b[39;00m \u001b[38;5;21msave\u001b[39m(\n\u001b[1;32m    616\u001b[0m     \u001b[38;5;28mself\u001b[39m,\n\u001b[1;32m    617\u001b[0m     filename: Optional[\u001b[38;5;28mstr\u001b[39m \u001b[38;5;241m|\u001b[39m Path \u001b[38;5;241m|\u001b[39m BytesIO] \u001b[38;5;241m=\u001b[39m \u001b[38;5;28;01mNone\u001b[39;00m,\n\u001b[0;32m   (...)\u001b[0m\n\u001b[1;32m    626\u001b[0m     \u001b[38;5;241m*\u001b[39m\u001b[38;5;241m*\u001b[39mkwargs: Any,\n\u001b[1;32m    627\u001b[0m ):\n\u001b[1;32m    628\u001b[0m \u001b[38;5;250m    \u001b[39m\u001b[38;5;124;03m\"\"\"\u001b[39;00m\n\u001b[1;32m    629\u001b[0m \u001b[38;5;124;03m    Save a ggplot object as an image file\u001b[39;00m\n\u001b[1;32m    630\u001b[0m \n\u001b[0;32m   (...)\u001b[0m\n\u001b[1;32m    661\u001b[0m \u001b[38;5;124;03m        Additional arguments to pass to matplotlib `savefig()`.\u001b[39;00m\n\u001b[1;32m    662\u001b[0m \u001b[38;5;124;03m    \"\"\"\u001b[39;00m\n\u001b[0;32m--> 663\u001b[0m     sv \u001b[38;5;241m=\u001b[39m \u001b[38;5;28;43mself\u001b[39;49m\u001b[38;5;241;43m.\u001b[39;49m\u001b[43msave_helper\u001b[49m\u001b[43m(\u001b[49m\n\u001b[1;32m    664\u001b[0m \u001b[43m        \u001b[49m\u001b[43mfilename\u001b[49m\u001b[38;5;241;43m=\u001b[39;49m\u001b[43mfilename\u001b[49m\u001b[43m,\u001b[49m\n\u001b[1;32m    665\u001b[0m \u001b[43m        \u001b[49m\u001b[38;5;28;43mformat\u001b[39;49m\u001b[38;5;241;43m=\u001b[39;49m\u001b[38;5;28;43mformat\u001b[39;49m\u001b[43m,\u001b[49m\n\u001b[1;32m    666\u001b[0m \u001b[43m        \u001b[49m\u001b[43mpath\u001b[49m\u001b[38;5;241;43m=\u001b[39;49m\u001b[43mpath\u001b[49m\u001b[43m,\u001b[49m\n\u001b[1;32m    667\u001b[0m \u001b[43m        \u001b[49m\u001b[43mwidth\u001b[49m\u001b[38;5;241;43m=\u001b[39;49m\u001b[43mwidth\u001b[49m\u001b[43m,\u001b[49m\n\u001b[1;32m    668\u001b[0m \u001b[43m        \u001b[49m\u001b[43mheight\u001b[49m\u001b[38;5;241;43m=\u001b[39;49m\u001b[43mheight\u001b[49m\u001b[43m,\u001b[49m\n\u001b[1;32m    669\u001b[0m \u001b[43m        \u001b[49m\u001b[43munits\u001b[49m\u001b[38;5;241;43m=\u001b[39;49m\u001b[43munits\u001b[49m\u001b[43m,\u001b[49m\n\u001b[1;32m    670\u001b[0m \u001b[43m        \u001b[49m\u001b[43mdpi\u001b[49m\u001b[38;5;241;43m=\u001b[39;49m\u001b[43mdpi\u001b[49m\u001b[43m,\u001b[49m\n\u001b[1;32m    671\u001b[0m \u001b[43m        \u001b[49m\u001b[43mlimitsize\u001b[49m\u001b[38;5;241;43m=\u001b[39;49m\u001b[43mlimitsize\u001b[49m\u001b[43m,\u001b[49m\n\u001b[1;32m    672\u001b[0m \u001b[43m        \u001b[49m\u001b[43mverbose\u001b[49m\u001b[38;5;241;43m=\u001b[39;49m\u001b[43mverbose\u001b[49m\u001b[43m,\u001b[49m\n\u001b[1;32m    673\u001b[0m \u001b[43m        \u001b[49m\u001b[38;5;241;43m*\u001b[39;49m\u001b[38;5;241;43m*\u001b[39;49m\u001b[43mkwargs\u001b[49m\u001b[43m,\u001b[49m\n\u001b[1;32m    674\u001b[0m \u001b[43m    \u001b[49m\u001b[43m)\u001b[49m\n\u001b[1;32m    676\u001b[0m     \u001b[38;5;28;01mwith\u001b[39;00m plot_context(\u001b[38;5;28mself\u001b[39m)\u001b[38;5;241m.\u001b[39mrc_context:\n\u001b[1;32m    677\u001b[0m         sv\u001b[38;5;241m.\u001b[39mfigure\u001b[38;5;241m.\u001b[39msavefig(\u001b[38;5;241m*\u001b[39m\u001b[38;5;241m*\u001b[39msv\u001b[38;5;241m.\u001b[39mkwargs)\n",
      "File \u001b[0;32m~/miniconda3/envs/hazydet/lib/python3.9/site-packages/plotnine/ggplot.py:612\u001b[0m, in \u001b[0;36mggplot.save_helper\u001b[0;34m(self, filename, format, path, width, height, units, dpi, limitsize, verbose, **kwargs)\u001b[0m\n\u001b[1;32m    609\u001b[0m \u001b[38;5;28;01mif\u001b[39;00m dpi \u001b[38;5;129;01mis\u001b[39;00m \u001b[38;5;129;01mnot\u001b[39;00m \u001b[38;5;28;01mNone\u001b[39;00m:\n\u001b[1;32m    610\u001b[0m     \u001b[38;5;28mself\u001b[39m\u001b[38;5;241m.\u001b[39mtheme \u001b[38;5;241m=\u001b[39m \u001b[38;5;28mself\u001b[39m\u001b[38;5;241m.\u001b[39mtheme \u001b[38;5;241m+\u001b[39m theme(dpi\u001b[38;5;241m=\u001b[39mdpi)\n\u001b[0;32m--> 612\u001b[0m figure \u001b[38;5;241m=\u001b[39m \u001b[38;5;28;43mself\u001b[39;49m\u001b[38;5;241;43m.\u001b[39;49m\u001b[43mdraw\u001b[49m\u001b[43m(\u001b[49m\u001b[43mshow\u001b[49m\u001b[38;5;241;43m=\u001b[39;49m\u001b[38;5;28;43;01mFalse\u001b[39;49;00m\u001b[43m)\u001b[49m\n\u001b[1;32m    613\u001b[0m \u001b[38;5;28;01mreturn\u001b[39;00m mpl_save_view(figure, fig_kwargs)\n",
      "File \u001b[0;32m~/miniconda3/envs/hazydet/lib/python3.9/site-packages/plotnine/ggplot.py:283\u001b[0m, in \u001b[0;36mggplot.draw\u001b[0;34m(self, show)\u001b[0m\n\u001b[1;32m    281\u001b[0m \u001b[38;5;28mself\u001b[39m\u001b[38;5;241m.\u001b[39m_draw_panel_borders()\n\u001b[1;32m    282\u001b[0m \u001b[38;5;28mself\u001b[39m\u001b[38;5;241m.\u001b[39m_draw_breaks_and_labels()\n\u001b[0;32m--> 283\u001b[0m \u001b[38;5;28;43mself\u001b[39;49m\u001b[38;5;241;43m.\u001b[39;49m\u001b[43mguides\u001b[49m\u001b[38;5;241;43m.\u001b[39;49m\u001b[43mdraw\u001b[49m\u001b[43m(\u001b[49m\u001b[43m)\u001b[49m\n\u001b[1;32m    284\u001b[0m \u001b[38;5;28mself\u001b[39m\u001b[38;5;241m.\u001b[39m_draw_figure_texts()\n\u001b[1;32m    285\u001b[0m \u001b[38;5;28mself\u001b[39m\u001b[38;5;241m.\u001b[39m_draw_watermarks()\n",
      "File \u001b[0;32m~/miniconda3/envs/hazydet/lib/python3.9/site-packages/plotnine/guides/guides.py:376\u001b[0m, in \u001b[0;36mguides.draw\u001b[0;34m(self)\u001b[0m\n\u001b[1;32m    373\u001b[0m guide_boxes \u001b[38;5;241m=\u001b[39m [g\u001b[38;5;241m.\u001b[39mdraw() \u001b[38;5;28;01mfor\u001b[39;00m g \u001b[38;5;129;01min\u001b[39;00m gdefs]\n\u001b[1;32m    375\u001b[0m \u001b[38;5;28mself\u001b[39m\u001b[38;5;241m.\u001b[39m_apply_guide_themes(gdefs)\n\u001b[0;32m--> 376\u001b[0m legends \u001b[38;5;241m=\u001b[39m \u001b[38;5;28;43mself\u001b[39;49m\u001b[38;5;241;43m.\u001b[39;49m\u001b[43m_assemble_guides\u001b[49m\u001b[43m(\u001b[49m\u001b[43mgdefs\u001b[49m\u001b[43m,\u001b[49m\u001b[43m \u001b[49m\u001b[43mguide_boxes\u001b[49m\u001b[43m)\u001b[49m\n\u001b[1;32m    377\u001b[0m \u001b[38;5;28;01mfor\u001b[39;00m aob \u001b[38;5;129;01min\u001b[39;00m legends\u001b[38;5;241m.\u001b[39mboxes:\n\u001b[1;32m    378\u001b[0m     \u001b[38;5;28mself\u001b[39m\u001b[38;5;241m.\u001b[39mplot\u001b[38;5;241m.\u001b[39mfigure\u001b[38;5;241m.\u001b[39madd_artist(aob)\n",
      "File \u001b[0;32m~/miniconda3/envs/hazydet/lib/python3.9/site-packages/plotnine/guides/guides.py:330\u001b[0m, in \u001b[0;36mguides._assemble_guides\u001b[0;34m(self, gdefs, boxes)\u001b[0m\n\u001b[1;32m    324\u001b[0m groups: \u001b[38;5;28mdict\u001b[39m[\n\u001b[1;32m    325\u001b[0m     \u001b[38;5;28mtuple\u001b[39m[SidePosition, \u001b[38;5;28mfloat\u001b[39m] \u001b[38;5;241m|\u001b[39m \u001b[38;5;28mtuple\u001b[39m[TupleFloat2, TupleFloat2],\n\u001b[1;32m    326\u001b[0m     \u001b[38;5;28mlist\u001b[39m[PackerBase],\n\u001b[1;32m    327\u001b[0m ] \u001b[38;5;241m=\u001b[39m defaultdict(\u001b[38;5;28mlist\u001b[39m)\n\u001b[1;32m    329\u001b[0m \u001b[38;5;28;01mfor\u001b[39;00m g, b \u001b[38;5;129;01min\u001b[39;00m \u001b[38;5;28mzip\u001b[39m(gdefs, boxes):\n\u001b[0;32m--> 330\u001b[0m     groups[\u001b[43mg\u001b[49m\u001b[38;5;241;43m.\u001b[39;49m\u001b[43m_resolved_position_justification\u001b[49m]\u001b[38;5;241m.\u001b[39mappend(b)\n\u001b[1;32m    332\u001b[0m legends \u001b[38;5;241m=\u001b[39m legend_artists()\n\u001b[1;32m    334\u001b[0m \u001b[38;5;66;03m# Create an anchoredoffsetbox for each group/position\u001b[39;00m\n",
      "File \u001b[0;32m~/miniconda3/envs/hazydet/lib/python3.9/site-packages/plotnine/guides/guide.py:133\u001b[0m, in \u001b[0;36mguide._resolved_position_justification\u001b[0;34m(self)\u001b[0m\n\u001b[1;32m    131\u001b[0m just_view \u001b[38;5;241m=\u001b[39m asdict(\u001b[38;5;28mself\u001b[39m\u001b[38;5;241m.\u001b[39mguides_elements\u001b[38;5;241m.\u001b[39mjustification)\n\u001b[1;32m    132\u001b[0m \u001b[38;5;28;01mif\u001b[39;00m \u001b[38;5;28misinstance\u001b[39m(pos, \u001b[38;5;28mstr\u001b[39m):\n\u001b[0;32m--> 133\u001b[0m     just \u001b[38;5;241m=\u001b[39m cast(\u001b[38;5;28mfloat\u001b[39m, \u001b[43mjust_view\u001b[49m\u001b[43m[\u001b[49m\u001b[43mpos\u001b[49m\u001b[43m]\u001b[49m)\n\u001b[1;32m    134\u001b[0m     \u001b[38;5;28;01mreturn\u001b[39;00m (pos, just)\n\u001b[1;32m    135\u001b[0m \u001b[38;5;28;01melse\u001b[39;00m:\n\u001b[1;32m    136\u001b[0m     \u001b[38;5;66;03m# If no justification is given for an inside legend,\u001b[39;00m\n\u001b[1;32m    137\u001b[0m     \u001b[38;5;66;03m# we use the position of the legend\u001b[39;00m\n",
      "\u001b[0;31mKeyError\u001b[0m: 'topright'"
     ]
    }
   ],
   "source": [
    "# 假设percentages已经定义好了，并且长度是n_questions * 3  \n",
    "n_questions = len(percentages) // 3  \n",
    "questions = list(range(1, n_questions + 1))  \n",
    "  \n",
    "# 调整模型顺序  \n",
    "models = ['UniDepth','Metric3D', 'IEBins']  \n",
    "  \n",
    "# 因为percentages直接用于绘图，我们不需要改变它，但确保绘图时正确匹配  \n",
    "# 注意：如果percentages是预先分组好的，并且每个模型对应一部分，则不需要改变  \n",
    "  \n",
    "# 创建数据字典  \n",
    "data_dict = {  \n",
    "    'Question': [q for q in questions for _ in models],  \n",
    "    'Model': models * n_questions,  \n",
    "    'Percentage': percentages  \n",
    "}  \n",
    "  \n",
    "df = pd.DataFrame(data_dict)  \n",
    "  \n",
    "# 设置颜色  \n",
    "colors = [\"#62E1E6\", \"#00C599\", \"#FCFCD4\"]  # 确保颜色顺序与模型顺序相匹配  \n",
    "  \n",
    "# 绘制比例柱状图（这里使用ggplot的语法，但注意ggplot在Python中可能不是最流行的库，可以考虑使用matplotlib或seaborn）  \n",
    "p = (  \n",
    "    ggplot(df, aes(x='Question', y='Percentage', fill='Model')) +  \n",
    "    geom_bar(stat='identity') +  \n",
    "    labs(title='',  \n",
    "         x='Question Number',  \n",
    "         y='Percentage of Votes (%)',  \n",
    "         fill='Model') +  \n",
    "    scale_fill_manual(values=colors) +  \n",
    "    theme_minimal() +  \n",
    "    theme(  \n",
    "        axis_text_x=element_text(rotation=90, hjust=1, size=10),  \n",
    "        axis_text_y=element_text(size=10),  \n",
    "        axis_title_x=element_text(size=12, margin={'t': 10}),  \n",
    "        axis_title_y=element_text(size=12, margin={'r': 10}),  \n",
    "        legend_position='right',  \n",
    "        legend_title=element_text(size=12),  \n",
    "        legend_text=element_text(size=10),  \n",
    "        plot_title=element_text(size=14, weight='bold', ha='center', margin={'b': 10}),  \n",
    "        figure_size=(10, 6),  \n",
    "        panel_grid_major=element_blank(),  \n",
    "        panel_grid_minor=element_blank()  \n",
    "    )  \n",
    ")  \n",
    "  \n",
    "# 输出图像  \n",
    "print(p)\n"
   ]
  },
  {
   "cell_type": "code",
   "execution_count": null,
   "metadata": {},
   "outputs": [],
   "source": []
  }
 ],
 "metadata": {
  "kernelspec": {
   "display_name": "hazydet",
   "language": "python",
   "name": "python3"
  },
  "language_info": {
   "codemirror_mode": {
    "name": "ipython",
    "version": 3
   },
   "file_extension": ".py",
   "mimetype": "text/x-python",
   "name": "python",
   "nbconvert_exporter": "python",
   "pygments_lexer": "ipython3",
   "version": "3.9.19"
  }
 },
 "nbformat": 4,
 "nbformat_minor": 2
}
