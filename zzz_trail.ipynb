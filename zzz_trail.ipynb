{
 "cells": [
  {
   "cell_type": "code",
   "execution_count": 1,
   "metadata": {},
   "outputs": [],
   "source": [
    "import torch\n",
    "import torch.nn as nn\n",
    "import torch.nn.functional as F"
   ]
  },
  {
   "cell_type": "code",
   "execution_count": 10,
   "metadata": {},
   "outputs": [],
   "source": [
    "input = torch.randn(3, requires_grad=True)\n",
    "target = torch.empty(3).random_(2)\n",
    "loss = F.binary_cross_entropy_with_logits(input, target)\n",
    "loss.backward()\n",
    "print (loss)"
   ]
  },
  {
   "cell_type": "code",
   "execution_count": null,
   "metadata": {},
   "outputs": [],
   "source": [
    "class TruncatedLoss(nn.Module):\n",
    "\n",
    "    def __init__(self, q=0.7, k=0.5, trainset_size=50000):\n",
    "        super(TruncatedLoss, self).__init__()\n",
    "        self.q = q\n",
    "        self.k = k\n",
    "        self.weight = torch.nn.Parameter(data=torch.ones(trainset_size, 1), requires_grad=False)\n",
    "             \n",
    "    def forward(self, logits, targets, indexes):\n",
    "        p = F.softmax(logits, dim=1)\n",
    "        Yg = torch.gather(p, 1, torch.unsqueeze(targets, 1))\n",
    "\n",
    "        loss = ((1-(Yg**self.q))/self.q)*self.weight[indexes] - ((1-(self.k**self.q))/self.q)*self.weight[indexes]\n",
    "        loss = torch.mean(loss)\n",
    "\n",
    "        return loss\n",
    "\n",
    "    def update_weight(self, logits, targets, indexes):\n",
    "        p = F.softmax(logits, dim=1)\n",
    "        Yg = torch.gather(p, 1, torch.unsqueeze(targets, 1))\n",
    "        Lq = ((1-(Yg**self.q))/self.q)\n",
    "        Lqk = np.repeat(((1-(self.k**self.q))/self.q), targets.size(0))\n",
    "        Lqk = torch.from_numpy(Lqk).type(torch.cuda.FloatTensor)\n",
    "        Lqk = torch.unsqueeze(Lqk, 1)\n",
    "        \n",
    "\n",
    "        condition = torch.gt(Lqk, Lq)\n",
    "        self.weight[indexes] = condition.type(torch.cuda.FloatTensor)"
   ]
  },
  {
   "cell_type": "code",
   "execution_count": null,
   "metadata": {},
   "outputs": [],
   "source": [
    "import torch\n",
    "import torch.nn as nn\n",
    "nn.BCEWithLogitsLoss\n",
    "torch.binary_cross_entropy_with_logits"
   ]
  }
 ],
 "metadata": {
  "kernelspec": {
   "display_name": "hazydet",
   "language": "python",
   "name": "python3"
  },
  "language_info": {
   "codemirror_mode": {
    "name": "ipython",
    "version": 3
   },
   "file_extension": ".py",
   "mimetype": "text/x-python",
   "name": "python",
   "nbconvert_exporter": "python",
   "pygments_lexer": "ipython3",
   "version": "3.9.-1"
  }
 },
 "nbformat": 4,
 "nbformat_minor": 2
}
